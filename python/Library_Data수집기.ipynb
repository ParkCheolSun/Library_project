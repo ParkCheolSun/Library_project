{
 "cells": [
  {
   "cell_type": "markdown",
   "id": "d70f7e78",
   "metadata": {},
   "source": [
    "# Library 정보 수집 "
   ]
  },
  {
   "cell_type": "code",
   "execution_count": null,
   "id": "1ed2f4ec",
   "metadata": {
    "scrolled": false
   },
   "outputs": [
    {
     "name": "stdout",
     "output_type": "stream",
     "text": [
      "[20221124] DB 초기화 완료.....\n"
     ]
    },
    {
     "name": "stderr",
     "output_type": "stream",
     "text": [
      "C:\\Users\\big303\\AppData\\Local\\Temp\\ipykernel_11748\\635763160.py:60: FutureWarning: pandas.io.json.json_normalize is deprecated, use pandas.json_normalize instead.\n",
      "  df=json_normalize(dictionay['response']['docs']['doc'])\n",
      "C:\\Users\\big303\\AppData\\Local\\Temp\\ipykernel_11748\\635763160.py:60: FutureWarning: pandas.io.json.json_normalize is deprecated, use pandas.json_normalize instead.\n",
      "  df=json_normalize(dictionay['response']['docs']['doc'])\n",
      "C:\\Users\\big303\\AppData\\Local\\Temp\\ipykernel_11748\\635763160.py:60: FutureWarning: pandas.io.json.json_normalize is deprecated, use pandas.json_normalize instead.\n",
      "  df=json_normalize(dictionay['response']['docs']['doc'])\n",
      "C:\\Users\\big303\\AppData\\Local\\Temp\\ipykernel_11748\\635763160.py:60: FutureWarning: pandas.io.json.json_normalize is deprecated, use pandas.json_normalize instead.\n",
      "  df=json_normalize(dictionay['response']['docs']['doc'])\n",
      "C:\\Users\\big303\\AppData\\Local\\Temp\\ipykernel_11748\\635763160.py:60: FutureWarning: pandas.io.json.json_normalize is deprecated, use pandas.json_normalize instead.\n",
      "  df=json_normalize(dictionay['response']['docs']['doc'])\n"
     ]
    },
    {
     "name": "stdout",
     "output_type": "stream",
     "text": [
      "[20221124] DB 데이터 입력 완료.....\n"
     ]
    }
   ],
   "source": [
    "import requests\n",
    "from enum import Enum\n",
    "import pandas as pd\n",
    "from pandas.io.json import json_normalize\n",
    "import xmltodict\n",
    "import json\n",
    "import cx_Oracle\n",
    "from datetime import datetime\n",
    "import schedule\n",
    "import time\n",
    "\n",
    "class LibCode(Enum):\n",
    "    Code01 = 124004\n",
    "    Code02 = 124012\n",
    "    Code03 = 129224\n",
    "    Code04 = 129219\n",
    "    Code05 = 124007\n",
    "    \n",
    "\n",
    "def initDB():\n",
    "    # 최신데이터로 업데이트하기 위하여 기존 데이터 삭제\n",
    "    connect = cx_Oracle.connect(\"Library_admin\", \"12345\", \"localhost:1521/xe\")\n",
    "    cursor = connect.cursor()\n",
    "    sql_delete = 'delete from book'\n",
    "    cursor.execute(sql_delete)\n",
    "    cursor.close()\n",
    "    connect.commit()\n",
    "    connect.close()\n",
    "    print('[' + datetime.now().strftime('%Y%m%d') + ']','DB 초기화 완료.....')\n",
    "    \n",
    "def collectionBook():\n",
    "    oriUrl = 'http://data4library.kr/api/loanItemSrchByLib'\n",
    "    myKey = 'af2df55209c61c0726e45405de83247e14d2474c9c0bca948854d5495b6465a1'\n",
    "    region = '24'  #광주\n",
    "    dtl_region = '24030'  #광주 남구\n",
    "    pageSize = '10'\n",
    "    count = 0\n",
    "    checkDB = False\n",
    "    for code in LibCode:\n",
    "        url = oriUrl + \"?authKey=\" + myKey + '&startDt=2022-01-01&endDt=2022-11-21' + \\\n",
    "            '&pageNo=1&pageSize=' + pageSize + \"&libCode=\" + str(code.value)\n",
    "        response = requests.get(url)\n",
    "        \n",
    "        # XML 수집\n",
    "        content = response.text\n",
    "        \n",
    "        # XML -> JSON 변환\n",
    "        result = xmltodict.parse(content)\n",
    "        dictionay = json.loads(json.dumps(result))\n",
    "        if dictionay != \"\" and checkDB == False:\n",
    "            initDB()\n",
    "            checkDB = True\n",
    "        elif checkDB == True:\n",
    "            pass\n",
    "        else:\n",
    "            print('[' + datetime.now().strftime('%Y%m%d') + ']','데이터 수집 오류 발생.....')\n",
    "            return\n",
    "        connect = cx_Oracle.connect(\"Library_admin\", \"12345\", \"localhost:1521/xe\")\n",
    "        cursor = connect.cursor()\n",
    "        df=json_normalize(dictionay['response']['docs']['doc'])\n",
    "        columns = ['bookname','authors','isbn13','bookImageURL']\n",
    "        df = df[columns]\n",
    "        for i in df.index:\n",
    "            sql_insert = 'INSERT INTO BOOK(book_number,bookname,authors,isbn13,book_ImageURL)' +\\\n",
    "            'VALUES(:booknumber, :bookname, :authors, :isbn13, :bookImageURL)'\n",
    "            \n",
    "            booknumber = count\n",
    "            bookname = df.loc[i].bookname\n",
    "            authors = df.loc[i].authors\n",
    "            isbn13 = df.loc[i].isbn13\n",
    "            bookImageURL = df.loc[i].bookImageURL\n",
    "            \n",
    "            cursor.execute(sql_insert, (booknumber, bookname, authors, isbn13, bookImageURL))\n",
    "            connect.commit()\n",
    "            count += 1\n",
    "        connect.close()\n",
    "    \n",
    "    print('[' + datetime.now().strftime('%Y%m%d') + ']','DB 데이터 입력 완료.....')\n",
    "    \n",
    "\n",
    "schedule.every().day.at(\"12:25:30\").do(collectionBook)\n",
    "\n",
    "while True:\n",
    "    schedule.run_pending()\n",
    "    time.sleep(1)"
   ]
  }
 ],
 "metadata": {
  "kernelspec": {
   "display_name": "Python 3 (ipykernel)",
   "language": "python",
   "name": "python3"
  },
  "language_info": {
   "codemirror_mode": {
    "name": "ipython",
    "version": 3
   },
   "file_extension": ".py",
   "mimetype": "text/x-python",
   "name": "python",
   "nbconvert_exporter": "python",
   "pygments_lexer": "ipython3",
   "version": "3.9.12"
  }
 },
 "nbformat": 4,
 "nbformat_minor": 5
}
